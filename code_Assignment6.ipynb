{
  "nbformat": 4,
  "nbformat_minor": 0,
  "metadata": {
    "colab": {
      "name": "A0243411W_LI_MING_Assignment6.ipynb",
      "provenance": [],
      "collapsed_sections": []
    },
    "kernelspec": {
      "name": "python3",
      "display_name": "Python 3"
    },
    "language_info": {
      "name": "python"
    },
    "accelerator": "GPU"
  },
  "cells": [
    {
      "cell_type": "code",
      "source": [
        "!pip install colossalai"
      ],
      "metadata": {
        "colab": {
          "base_uri": "https://localhost:8080/"
        },
        "id": "R-V7LyPuI4v9",
        "outputId": "e7082290-6474-4ff5-9ef2-cf0b8c2b6bf5"
      },
      "execution_count": 1,
      "outputs": [
        {
          "output_type": "stream",
          "name": "stdout",
          "text": [
            "Requirement already satisfied: colossalai in /usr/local/lib/python3.7/dist-packages (0.1.1)\n",
            "Requirement already satisfied: torch>=1.8 in /usr/local/lib/python3.7/dist-packages (from colossalai) (1.10.0+cu111)\n",
            "Requirement already satisfied: psutil in /usr/local/lib/python3.7/dist-packages (from colossalai) (5.4.8)\n",
            "Requirement already satisfied: tensorboard in /usr/local/lib/python3.7/dist-packages (from colossalai) (2.8.0)\n",
            "Requirement already satisfied: pre-commit in /usr/local/lib/python3.7/dist-packages (from colossalai) (2.17.0)\n",
            "Requirement already satisfied: torchvision>=0.9 in /usr/local/lib/python3.7/dist-packages (from colossalai) (0.11.1+cu111)\n",
            "Requirement already satisfied: tqdm in /usr/local/lib/python3.7/dist-packages (from colossalai) (4.63.0)\n",
            "Requirement already satisfied: packaging in /usr/local/lib/python3.7/dist-packages (from colossalai) (21.3)\n",
            "Requirement already satisfied: numpy in /usr/local/lib/python3.7/dist-packages (from colossalai) (1.21.5)\n",
            "Requirement already satisfied: rich in /usr/local/lib/python3.7/dist-packages (from colossalai) (12.0.1)\n",
            "Requirement already satisfied: typing-extensions in /usr/local/lib/python3.7/dist-packages (from torch>=1.8->colossalai) (3.10.0.2)\n",
            "Requirement already satisfied: pillow!=8.3.0,>=5.3.0 in /usr/local/lib/python3.7/dist-packages (from torchvision>=0.9->colossalai) (7.1.2)\n",
            "Requirement already satisfied: pyparsing!=3.0.5,>=2.0.2 in /usr/local/lib/python3.7/dist-packages (from packaging->colossalai) (3.0.7)\n",
            "Requirement already satisfied: identify>=1.0.0 in /usr/local/lib/python3.7/dist-packages (from pre-commit->colossalai) (2.4.12)\n",
            "Requirement already satisfied: nodeenv>=0.11.1 in /usr/local/lib/python3.7/dist-packages (from pre-commit->colossalai) (1.6.0)\n",
            "Requirement already satisfied: toml in /usr/local/lib/python3.7/dist-packages (from pre-commit->colossalai) (0.10.2)\n",
            "Requirement already satisfied: virtualenv>=20.0.8 in /usr/local/lib/python3.7/dist-packages (from pre-commit->colossalai) (20.14.0)\n",
            "Requirement already satisfied: importlib-metadata in /usr/local/lib/python3.7/dist-packages (from pre-commit->colossalai) (4.11.3)\n",
            "Requirement already satisfied: pyyaml>=5.1 in /usr/local/lib/python3.7/dist-packages (from pre-commit->colossalai) (6.0)\n",
            "Requirement already satisfied: cfgv>=2.0.0 in /usr/local/lib/python3.7/dist-packages (from pre-commit->colossalai) (3.3.1)\n",
            "Requirement already satisfied: filelock<4,>=3.2 in /usr/local/lib/python3.7/dist-packages (from virtualenv>=20.0.8->pre-commit->colossalai) (3.6.0)\n",
            "Requirement already satisfied: platformdirs<3,>=2 in /usr/local/lib/python3.7/dist-packages (from virtualenv>=20.0.8->pre-commit->colossalai) (2.5.1)\n",
            "Requirement already satisfied: six<2,>=1.9.0 in /usr/local/lib/python3.7/dist-packages (from virtualenv>=20.0.8->pre-commit->colossalai) (1.15.0)\n",
            "Requirement already satisfied: distlib<1,>=0.3.1 in /usr/local/lib/python3.7/dist-packages (from virtualenv>=20.0.8->pre-commit->colossalai) (0.3.4)\n",
            "Requirement already satisfied: zipp>=0.5 in /usr/local/lib/python3.7/dist-packages (from importlib-metadata->pre-commit->colossalai) (3.7.0)\n",
            "Requirement already satisfied: commonmark<0.10.0,>=0.9.0 in /usr/local/lib/python3.7/dist-packages (from rich->colossalai) (0.9.1)\n",
            "Requirement already satisfied: pygments<3.0.0,>=2.6.0 in /usr/local/lib/python3.7/dist-packages (from rich->colossalai) (2.6.1)\n",
            "Requirement already satisfied: wheel>=0.26 in /usr/local/lib/python3.7/dist-packages (from tensorboard->colossalai) (0.37.1)\n",
            "Requirement already satisfied: markdown>=2.6.8 in /usr/local/lib/python3.7/dist-packages (from tensorboard->colossalai) (3.3.6)\n",
            "Requirement already satisfied: requests<3,>=2.21.0 in /usr/local/lib/python3.7/dist-packages (from tensorboard->colossalai) (2.23.0)\n",
            "Requirement already satisfied: absl-py>=0.4 in /usr/local/lib/python3.7/dist-packages (from tensorboard->colossalai) (1.0.0)\n",
            "Requirement already satisfied: google-auth-oauthlib<0.5,>=0.4.1 in /usr/local/lib/python3.7/dist-packages (from tensorboard->colossalai) (0.4.6)\n",
            "Requirement already satisfied: setuptools>=41.0.0 in /usr/local/lib/python3.7/dist-packages (from tensorboard->colossalai) (57.4.0)\n",
            "Requirement already satisfied: grpcio>=1.24.3 in /usr/local/lib/python3.7/dist-packages (from tensorboard->colossalai) (1.44.0)\n",
            "Requirement already satisfied: tensorboard-plugin-wit>=1.6.0 in /usr/local/lib/python3.7/dist-packages (from tensorboard->colossalai) (1.8.1)\n",
            "Requirement already satisfied: werkzeug>=0.11.15 in /usr/local/lib/python3.7/dist-packages (from tensorboard->colossalai) (1.0.1)\n",
            "Requirement already satisfied: tensorboard-data-server<0.7.0,>=0.6.0 in /usr/local/lib/python3.7/dist-packages (from tensorboard->colossalai) (0.6.1)\n",
            "Requirement already satisfied: google-auth<3,>=1.6.3 in /usr/local/lib/python3.7/dist-packages (from tensorboard->colossalai) (1.35.0)\n",
            "Requirement already satisfied: protobuf>=3.6.0 in /usr/local/lib/python3.7/dist-packages (from tensorboard->colossalai) (3.17.3)\n",
            "Requirement already satisfied: cachetools<5.0,>=2.0.0 in /usr/local/lib/python3.7/dist-packages (from google-auth<3,>=1.6.3->tensorboard->colossalai) (4.2.4)\n",
            "Requirement already satisfied: rsa<5,>=3.1.4 in /usr/local/lib/python3.7/dist-packages (from google-auth<3,>=1.6.3->tensorboard->colossalai) (4.8)\n",
            "Requirement already satisfied: pyasn1-modules>=0.2.1 in /usr/local/lib/python3.7/dist-packages (from google-auth<3,>=1.6.3->tensorboard->colossalai) (0.2.8)\n",
            "Requirement already satisfied: requests-oauthlib>=0.7.0 in /usr/local/lib/python3.7/dist-packages (from google-auth-oauthlib<0.5,>=0.4.1->tensorboard->colossalai) (1.3.1)\n",
            "Requirement already satisfied: pyasn1<0.5.0,>=0.4.6 in /usr/local/lib/python3.7/dist-packages (from pyasn1-modules>=0.2.1->google-auth<3,>=1.6.3->tensorboard->colossalai) (0.4.8)\n",
            "Requirement already satisfied: urllib3!=1.25.0,!=1.25.1,<1.26,>=1.21.1 in /usr/local/lib/python3.7/dist-packages (from requests<3,>=2.21.0->tensorboard->colossalai) (1.24.3)\n",
            "Requirement already satisfied: idna<3,>=2.5 in /usr/local/lib/python3.7/dist-packages (from requests<3,>=2.21.0->tensorboard->colossalai) (2.10)\n",
            "Requirement already satisfied: chardet<4,>=3.0.2 in /usr/local/lib/python3.7/dist-packages (from requests<3,>=2.21.0->tensorboard->colossalai) (3.0.4)\n",
            "Requirement already satisfied: certifi>=2017.4.17 in /usr/local/lib/python3.7/dist-packages (from requests<3,>=2.21.0->tensorboard->colossalai) (2021.10.8)\n",
            "Requirement already satisfied: oauthlib>=3.0.0 in /usr/local/lib/python3.7/dist-packages (from requests-oauthlib>=0.7.0->google-auth-oauthlib<0.5,>=0.4.1->tensorboard->colossalai) (3.2.0)\n"
          ]
        }
      ]
    },
    {
      "cell_type": "code",
      "execution_count": null,
      "metadata": {
        "colab": {
          "base_uri": "https://localhost:8080/",
          "height": 1000
        },
        "id": "-tmXEtii7-7F",
        "outputId": "47fbd996-b29b-4d0e-de1e-de6cb22819d6"
      },
      "outputs": [
        {
          "output_type": "display_data",
          "data": {
            "text/plain": [
              "\u001b[2;36m[03/31/22 13:51:32]\u001b[0m\u001b[2;36m \u001b[0m\u001b[34mINFO    \u001b[0m colossalai -                             \u001b]8;id=914731;file:///usr/local/lib/python3.7/dist-packages/torch/distributed/distributed_c10d.py\u001b\\\u001b[2mdistributed_c10d.py\u001b[0m\u001b]8;;\u001b\\\u001b[2m:\u001b[0m\u001b]8;id=881752;file:///usr/local/lib/python3.7/dist-packages/torch/distributed/distributed_c10d.py#217\u001b\\\u001b[2m217\u001b[0m\u001b]8;;\u001b\\\n",
              "\u001b[2;36m                    \u001b[0m         torch.distributed.distributed_c10d -     \u001b[2m                       \u001b[0m\n",
              "\u001b[2;36m                    \u001b[0m         \u001b[1;36m2022\u001b[0m-\u001b[1;36m03\u001b[0m-\u001b[1;36m31\u001b[0m \u001b[1;92m13:51:32\u001b[0m,\u001b[1;36m847\u001b[0m INFO: Added key: \u001b[2m                       \u001b[0m\n",
              "\u001b[2;36m                    \u001b[0m         store_based_barrier_key:\u001b[1;36m1\u001b[0m to store for   \u001b[2m                       \u001b[0m\n",
              "\u001b[2;36m                    \u001b[0m         rank: \u001b[1;36m0\u001b[0m                                  \u001b[2m                       \u001b[0m\n"
            ],
            "text/html": [
              "<pre style=\"white-space:pre;overflow-x:auto;line-height:normal;font-family:Menlo,'DejaVu Sans Mono',consolas,'Courier New',monospace\"><span style=\"color: #7fbfbf; text-decoration-color: #7fbfbf\">[03/31/22 13:51:32] </span><span style=\"color: #000080; text-decoration-color: #000080\">INFO    </span> colossalai -                             <a href=\"file:///usr/local/lib/python3.7/dist-packages/torch/distributed/distributed_c10d.py\" target=\"_blank\"><span style=\"color: #7f7f7f; text-decoration-color: #7f7f7f\">distributed_c10d.py</span></a><span style=\"color: #7f7f7f; text-decoration-color: #7f7f7f\">:</span><a href=\"file:///usr/local/lib/python3.7/dist-packages/torch/distributed/distributed_c10d.py#217\" target=\"_blank\"><span style=\"color: #7f7f7f; text-decoration-color: #7f7f7f\">217</span></a>\n",
              "<span style=\"color: #7fbfbf; text-decoration-color: #7fbfbf\">                    </span>         torch.distributed.distributed_c10d -     <span style=\"color: #7f7f7f; text-decoration-color: #7f7f7f\">                       </span>\n",
              "<span style=\"color: #7fbfbf; text-decoration-color: #7fbfbf\">                    </span>         <span style=\"color: #008080; text-decoration-color: #008080; font-weight: bold\">2022</span>-<span style=\"color: #008080; text-decoration-color: #008080; font-weight: bold\">03</span>-<span style=\"color: #008080; text-decoration-color: #008080; font-weight: bold\">31</span> <span style=\"color: #00ff00; text-decoration-color: #00ff00; font-weight: bold\">13:51:32</span>,<span style=\"color: #008080; text-decoration-color: #008080; font-weight: bold\">847</span> INFO: Added key: <span style=\"color: #7f7f7f; text-decoration-color: #7f7f7f\">                       </span>\n",
              "<span style=\"color: #7fbfbf; text-decoration-color: #7fbfbf\">                    </span>         store_based_barrier_key:<span style=\"color: #008080; text-decoration-color: #008080; font-weight: bold\">1</span> to store for   <span style=\"color: #7f7f7f; text-decoration-color: #7f7f7f\">                       </span>\n",
              "<span style=\"color: #7fbfbf; text-decoration-color: #7fbfbf\">                    </span>         rank: <span style=\"color: #008080; text-decoration-color: #008080; font-weight: bold\">0</span>                                  <span style=\"color: #7f7f7f; text-decoration-color: #7f7f7f\">                       </span>\n",
              "</pre>\n"
            ]
          },
          "metadata": {}
        },
        {
          "output_type": "display_data",
          "data": {
            "text/plain": [
              "\u001b[2;36m                   \u001b[0m\u001b[2;36m \u001b[0m\u001b[34mINFO    \u001b[0m colossalai -                             \u001b]8;id=775709;file:///usr/local/lib/python3.7/dist-packages/torch/distributed/distributed_c10d.py\u001b\\\u001b[2mdistributed_c10d.py\u001b[0m\u001b]8;;\u001b\\\u001b[2m:\u001b[0m\u001b]8;id=116084;file:///usr/local/lib/python3.7/dist-packages/torch/distributed/distributed_c10d.py#252\u001b\\\u001b[2m252\u001b[0m\u001b]8;;\u001b\\\n",
              "\u001b[2;36m                    \u001b[0m         torch.distributed.distributed_c10d -     \u001b[2m                       \u001b[0m\n",
              "\u001b[2;36m                    \u001b[0m         \u001b[1;36m2022\u001b[0m-\u001b[1;36m03\u001b[0m-\u001b[1;36m31\u001b[0m \u001b[1;92m13:51:32\u001b[0m,\u001b[1;36m855\u001b[0m INFO: Rank \u001b[1;36m0\u001b[0m:    \u001b[2m                       \u001b[0m\n",
              "\u001b[2;36m                    \u001b[0m         Completed store-based barrier for        \u001b[2m                       \u001b[0m\n",
              "\u001b[2;36m                    \u001b[0m         key:store_based_barrier_key:\u001b[1;36m1\u001b[0m with \u001b[1;36m1\u001b[0m     \u001b[2m                       \u001b[0m\n",
              "\u001b[2;36m                    \u001b[0m         nodes.                                   \u001b[2m                       \u001b[0m\n"
            ],
            "text/html": [
              "<pre style=\"white-space:pre;overflow-x:auto;line-height:normal;font-family:Menlo,'DejaVu Sans Mono',consolas,'Courier New',monospace\"><span style=\"color: #7fbfbf; text-decoration-color: #7fbfbf\">                    </span><span style=\"color: #000080; text-decoration-color: #000080\">INFO    </span> colossalai -                             <a href=\"file:///usr/local/lib/python3.7/dist-packages/torch/distributed/distributed_c10d.py\" target=\"_blank\"><span style=\"color: #7f7f7f; text-decoration-color: #7f7f7f\">distributed_c10d.py</span></a><span style=\"color: #7f7f7f; text-decoration-color: #7f7f7f\">:</span><a href=\"file:///usr/local/lib/python3.7/dist-packages/torch/distributed/distributed_c10d.py#252\" target=\"_blank\"><span style=\"color: #7f7f7f; text-decoration-color: #7f7f7f\">252</span></a>\n",
              "<span style=\"color: #7fbfbf; text-decoration-color: #7fbfbf\">                    </span>         torch.distributed.distributed_c10d -     <span style=\"color: #7f7f7f; text-decoration-color: #7f7f7f\">                       </span>\n",
              "<span style=\"color: #7fbfbf; text-decoration-color: #7fbfbf\">                    </span>         <span style=\"color: #008080; text-decoration-color: #008080; font-weight: bold\">2022</span>-<span style=\"color: #008080; text-decoration-color: #008080; font-weight: bold\">03</span>-<span style=\"color: #008080; text-decoration-color: #008080; font-weight: bold\">31</span> <span style=\"color: #00ff00; text-decoration-color: #00ff00; font-weight: bold\">13:51:32</span>,<span style=\"color: #008080; text-decoration-color: #008080; font-weight: bold\">855</span> INFO: Rank <span style=\"color: #008080; text-decoration-color: #008080; font-weight: bold\">0</span>:    <span style=\"color: #7f7f7f; text-decoration-color: #7f7f7f\">                       </span>\n",
              "<span style=\"color: #7fbfbf; text-decoration-color: #7fbfbf\">                    </span>         Completed store-based barrier for        <span style=\"color: #7f7f7f; text-decoration-color: #7f7f7f\">                       </span>\n",
              "<span style=\"color: #7fbfbf; text-decoration-color: #7fbfbf\">                    </span>         key:store_based_barrier_key:<span style=\"color: #008080; text-decoration-color: #008080; font-weight: bold\">1</span> with <span style=\"color: #008080; text-decoration-color: #008080; font-weight: bold\">1</span>     <span style=\"color: #7f7f7f; text-decoration-color: #7f7f7f\">                       </span>\n",
              "<span style=\"color: #7fbfbf; text-decoration-color: #7fbfbf\">                    </span>         nodes.                                   <span style=\"color: #7f7f7f; text-decoration-color: #7f7f7f\">                       </span>\n",
              "</pre>\n"
            ]
          },
          "metadata": {}
        },
        {
          "output_type": "display_data",
          "data": {
            "text/plain": [
              "\u001b[2;36m                   \u001b[0m\u001b[2;36m \u001b[0m\u001b[34mINFO    \u001b[0m colossalai -                             \u001b]8;id=884441;file:///usr/local/lib/python3.7/dist-packages/torch/distributed/distributed_c10d.py\u001b\\\u001b[2mdistributed_c10d.py\u001b[0m\u001b]8;;\u001b\\\u001b[2m:\u001b[0m\u001b]8;id=551011;file:///usr/local/lib/python3.7/dist-packages/torch/distributed/distributed_c10d.py#217\u001b\\\u001b[2m217\u001b[0m\u001b]8;;\u001b\\\n",
              "\u001b[2;36m                    \u001b[0m         torch.distributed.distributed_c10d -     \u001b[2m                       \u001b[0m\n",
              "\u001b[2;36m                    \u001b[0m         \u001b[1;36m2022\u001b[0m-\u001b[1;36m03\u001b[0m-\u001b[1;36m31\u001b[0m \u001b[1;92m13:51:32\u001b[0m,\u001b[1;36m863\u001b[0m INFO: Added key: \u001b[2m                       \u001b[0m\n",
              "\u001b[2;36m                    \u001b[0m         store_based_barrier_key:\u001b[1;36m2\u001b[0m to store for   \u001b[2m                       \u001b[0m\n",
              "\u001b[2;36m                    \u001b[0m         rank: \u001b[1;36m0\u001b[0m                                  \u001b[2m                       \u001b[0m\n"
            ],
            "text/html": [
              "<pre style=\"white-space:pre;overflow-x:auto;line-height:normal;font-family:Menlo,'DejaVu Sans Mono',consolas,'Courier New',monospace\"><span style=\"color: #7fbfbf; text-decoration-color: #7fbfbf\">                    </span><span style=\"color: #000080; text-decoration-color: #000080\">INFO    </span> colossalai -                             <a href=\"file:///usr/local/lib/python3.7/dist-packages/torch/distributed/distributed_c10d.py\" target=\"_blank\"><span style=\"color: #7f7f7f; text-decoration-color: #7f7f7f\">distributed_c10d.py</span></a><span style=\"color: #7f7f7f; text-decoration-color: #7f7f7f\">:</span><a href=\"file:///usr/local/lib/python3.7/dist-packages/torch/distributed/distributed_c10d.py#217\" target=\"_blank\"><span style=\"color: #7f7f7f; text-decoration-color: #7f7f7f\">217</span></a>\n",
              "<span style=\"color: #7fbfbf; text-decoration-color: #7fbfbf\">                    </span>         torch.distributed.distributed_c10d -     <span style=\"color: #7f7f7f; text-decoration-color: #7f7f7f\">                       </span>\n",
              "<span style=\"color: #7fbfbf; text-decoration-color: #7fbfbf\">                    </span>         <span style=\"color: #008080; text-decoration-color: #008080; font-weight: bold\">2022</span>-<span style=\"color: #008080; text-decoration-color: #008080; font-weight: bold\">03</span>-<span style=\"color: #008080; text-decoration-color: #008080; font-weight: bold\">31</span> <span style=\"color: #00ff00; text-decoration-color: #00ff00; font-weight: bold\">13:51:32</span>,<span style=\"color: #008080; text-decoration-color: #008080; font-weight: bold\">863</span> INFO: Added key: <span style=\"color: #7f7f7f; text-decoration-color: #7f7f7f\">                       </span>\n",
              "<span style=\"color: #7fbfbf; text-decoration-color: #7fbfbf\">                    </span>         store_based_barrier_key:<span style=\"color: #008080; text-decoration-color: #008080; font-weight: bold\">2</span> to store for   <span style=\"color: #7f7f7f; text-decoration-color: #7f7f7f\">                       </span>\n",
              "<span style=\"color: #7fbfbf; text-decoration-color: #7fbfbf\">                    </span>         rank: <span style=\"color: #008080; text-decoration-color: #008080; font-weight: bold\">0</span>                                  <span style=\"color: #7f7f7f; text-decoration-color: #7f7f7f\">                       </span>\n",
              "</pre>\n"
            ]
          },
          "metadata": {}
        },
        {
          "output_type": "display_data",
          "data": {
            "text/plain": [
              "\u001b[2;36m                   \u001b[0m\u001b[2;36m \u001b[0m\u001b[34mINFO    \u001b[0m colossalai -                             \u001b]8;id=332327;file:///usr/local/lib/python3.7/dist-packages/torch/distributed/distributed_c10d.py\u001b\\\u001b[2mdistributed_c10d.py\u001b[0m\u001b]8;;\u001b\\\u001b[2m:\u001b[0m\u001b]8;id=76456;file:///usr/local/lib/python3.7/dist-packages/torch/distributed/distributed_c10d.py#252\u001b\\\u001b[2m252\u001b[0m\u001b]8;;\u001b\\\n",
              "\u001b[2;36m                    \u001b[0m         torch.distributed.distributed_c10d -     \u001b[2m                       \u001b[0m\n",
              "\u001b[2;36m                    \u001b[0m         \u001b[1;36m2022\u001b[0m-\u001b[1;36m03\u001b[0m-\u001b[1;36m31\u001b[0m \u001b[1;92m13:51:32\u001b[0m,\u001b[1;36m868\u001b[0m INFO: Rank \u001b[1;36m0\u001b[0m:    \u001b[2m                       \u001b[0m\n",
              "\u001b[2;36m                    \u001b[0m         Completed store-based barrier for        \u001b[2m                       \u001b[0m\n",
              "\u001b[2;36m                    \u001b[0m         key:store_based_barrier_key:\u001b[1;36m2\u001b[0m with \u001b[1;36m1\u001b[0m     \u001b[2m                       \u001b[0m\n",
              "\u001b[2;36m                    \u001b[0m         nodes.                                   \u001b[2m                       \u001b[0m\n"
            ],
            "text/html": [
              "<pre style=\"white-space:pre;overflow-x:auto;line-height:normal;font-family:Menlo,'DejaVu Sans Mono',consolas,'Courier New',monospace\"><span style=\"color: #7fbfbf; text-decoration-color: #7fbfbf\">                    </span><span style=\"color: #000080; text-decoration-color: #000080\">INFO    </span> colossalai -                             <a href=\"file:///usr/local/lib/python3.7/dist-packages/torch/distributed/distributed_c10d.py\" target=\"_blank\"><span style=\"color: #7f7f7f; text-decoration-color: #7f7f7f\">distributed_c10d.py</span></a><span style=\"color: #7f7f7f; text-decoration-color: #7f7f7f\">:</span><a href=\"file:///usr/local/lib/python3.7/dist-packages/torch/distributed/distributed_c10d.py#252\" target=\"_blank\"><span style=\"color: #7f7f7f; text-decoration-color: #7f7f7f\">252</span></a>\n",
              "<span style=\"color: #7fbfbf; text-decoration-color: #7fbfbf\">                    </span>         torch.distributed.distributed_c10d -     <span style=\"color: #7f7f7f; text-decoration-color: #7f7f7f\">                       </span>\n",
              "<span style=\"color: #7fbfbf; text-decoration-color: #7fbfbf\">                    </span>         <span style=\"color: #008080; text-decoration-color: #008080; font-weight: bold\">2022</span>-<span style=\"color: #008080; text-decoration-color: #008080; font-weight: bold\">03</span>-<span style=\"color: #008080; text-decoration-color: #008080; font-weight: bold\">31</span> <span style=\"color: #00ff00; text-decoration-color: #00ff00; font-weight: bold\">13:51:32</span>,<span style=\"color: #008080; text-decoration-color: #008080; font-weight: bold\">868</span> INFO: Rank <span style=\"color: #008080; text-decoration-color: #008080; font-weight: bold\">0</span>:    <span style=\"color: #7f7f7f; text-decoration-color: #7f7f7f\">                       </span>\n",
              "<span style=\"color: #7fbfbf; text-decoration-color: #7fbfbf\">                    </span>         Completed store-based barrier for        <span style=\"color: #7f7f7f; text-decoration-color: #7f7f7f\">                       </span>\n",
              "<span style=\"color: #7fbfbf; text-decoration-color: #7fbfbf\">                    </span>         key:store_based_barrier_key:<span style=\"color: #008080; text-decoration-color: #008080; font-weight: bold\">2</span> with <span style=\"color: #008080; text-decoration-color: #008080; font-weight: bold\">1</span>     <span style=\"color: #7f7f7f; text-decoration-color: #7f7f7f\">                       </span>\n",
              "<span style=\"color: #7fbfbf; text-decoration-color: #7fbfbf\">                    </span>         nodes.                                   <span style=\"color: #7f7f7f; text-decoration-color: #7f7f7f\">                       </span>\n",
              "</pre>\n"
            ]
          },
          "metadata": {}
        },
        {
          "output_type": "display_data",
          "data": {
            "text/plain": [
              "\u001b[2;36m                   \u001b[0m\u001b[2;36m \u001b[0m\u001b[34mINFO    \u001b[0m colossalai -                             \u001b]8;id=413238;file:///usr/local/lib/python3.7/dist-packages/torch/distributed/distributed_c10d.py\u001b\\\u001b[2mdistributed_c10d.py\u001b[0m\u001b]8;;\u001b\\\u001b[2m:\u001b[0m\u001b]8;id=435300;file:///usr/local/lib/python3.7/dist-packages/torch/distributed/distributed_c10d.py#217\u001b\\\u001b[2m217\u001b[0m\u001b]8;;\u001b\\\n",
              "\u001b[2;36m                    \u001b[0m         torch.distributed.distributed_c10d -     \u001b[2m                       \u001b[0m\n",
              "\u001b[2;36m                    \u001b[0m         \u001b[1;36m2022\u001b[0m-\u001b[1;36m03\u001b[0m-\u001b[1;36m31\u001b[0m \u001b[1;92m13:51:32\u001b[0m,\u001b[1;36m876\u001b[0m INFO: Added key: \u001b[2m                       \u001b[0m\n",
              "\u001b[2;36m                    \u001b[0m         store_based_barrier_key:\u001b[1;36m3\u001b[0m to store for   \u001b[2m                       \u001b[0m\n",
              "\u001b[2;36m                    \u001b[0m         rank: \u001b[1;36m0\u001b[0m                                  \u001b[2m                       \u001b[0m\n"
            ],
            "text/html": [
              "<pre style=\"white-space:pre;overflow-x:auto;line-height:normal;font-family:Menlo,'DejaVu Sans Mono',consolas,'Courier New',monospace\"><span style=\"color: #7fbfbf; text-decoration-color: #7fbfbf\">                    </span><span style=\"color: #000080; text-decoration-color: #000080\">INFO    </span> colossalai -                             <a href=\"file:///usr/local/lib/python3.7/dist-packages/torch/distributed/distributed_c10d.py\" target=\"_blank\"><span style=\"color: #7f7f7f; text-decoration-color: #7f7f7f\">distributed_c10d.py</span></a><span style=\"color: #7f7f7f; text-decoration-color: #7f7f7f\">:</span><a href=\"file:///usr/local/lib/python3.7/dist-packages/torch/distributed/distributed_c10d.py#217\" target=\"_blank\"><span style=\"color: #7f7f7f; text-decoration-color: #7f7f7f\">217</span></a>\n",
              "<span style=\"color: #7fbfbf; text-decoration-color: #7fbfbf\">                    </span>         torch.distributed.distributed_c10d -     <span style=\"color: #7f7f7f; text-decoration-color: #7f7f7f\">                       </span>\n",
              "<span style=\"color: #7fbfbf; text-decoration-color: #7fbfbf\">                    </span>         <span style=\"color: #008080; text-decoration-color: #008080; font-weight: bold\">2022</span>-<span style=\"color: #008080; text-decoration-color: #008080; font-weight: bold\">03</span>-<span style=\"color: #008080; text-decoration-color: #008080; font-weight: bold\">31</span> <span style=\"color: #00ff00; text-decoration-color: #00ff00; font-weight: bold\">13:51:32</span>,<span style=\"color: #008080; text-decoration-color: #008080; font-weight: bold\">876</span> INFO: Added key: <span style=\"color: #7f7f7f; text-decoration-color: #7f7f7f\">                       </span>\n",
              "<span style=\"color: #7fbfbf; text-decoration-color: #7fbfbf\">                    </span>         store_based_barrier_key:<span style=\"color: #008080; text-decoration-color: #008080; font-weight: bold\">3</span> to store for   <span style=\"color: #7f7f7f; text-decoration-color: #7f7f7f\">                       </span>\n",
              "<span style=\"color: #7fbfbf; text-decoration-color: #7fbfbf\">                    </span>         rank: <span style=\"color: #008080; text-decoration-color: #008080; font-weight: bold\">0</span>                                  <span style=\"color: #7f7f7f; text-decoration-color: #7f7f7f\">                       </span>\n",
              "</pre>\n"
            ]
          },
          "metadata": {}
        },
        {
          "output_type": "display_data",
          "data": {
            "text/plain": [
              "\u001b[2;36m                   \u001b[0m\u001b[2;36m \u001b[0m\u001b[34mINFO    \u001b[0m colossalai -                             \u001b]8;id=739073;file:///usr/local/lib/python3.7/dist-packages/torch/distributed/distributed_c10d.py\u001b\\\u001b[2mdistributed_c10d.py\u001b[0m\u001b]8;;\u001b\\\u001b[2m:\u001b[0m\u001b]8;id=781909;file:///usr/local/lib/python3.7/dist-packages/torch/distributed/distributed_c10d.py#252\u001b\\\u001b[2m252\u001b[0m\u001b]8;;\u001b\\\n",
              "\u001b[2;36m                    \u001b[0m         torch.distributed.distributed_c10d -     \u001b[2m                       \u001b[0m\n",
              "\u001b[2;36m                    \u001b[0m         \u001b[1;36m2022\u001b[0m-\u001b[1;36m03\u001b[0m-\u001b[1;36m31\u001b[0m \u001b[1;92m13:51:32\u001b[0m,\u001b[1;36m882\u001b[0m INFO: Rank \u001b[1;36m0\u001b[0m:    \u001b[2m                       \u001b[0m\n",
              "\u001b[2;36m                    \u001b[0m         Completed store-based barrier for        \u001b[2m                       \u001b[0m\n",
              "\u001b[2;36m                    \u001b[0m         key:store_based_barrier_key:\u001b[1;36m3\u001b[0m with \u001b[1;36m1\u001b[0m     \u001b[2m                       \u001b[0m\n",
              "\u001b[2;36m                    \u001b[0m         nodes.                                   \u001b[2m                       \u001b[0m\n"
            ],
            "text/html": [
              "<pre style=\"white-space:pre;overflow-x:auto;line-height:normal;font-family:Menlo,'DejaVu Sans Mono',consolas,'Courier New',monospace\"><span style=\"color: #7fbfbf; text-decoration-color: #7fbfbf\">                    </span><span style=\"color: #000080; text-decoration-color: #000080\">INFO    </span> colossalai -                             <a href=\"file:///usr/local/lib/python3.7/dist-packages/torch/distributed/distributed_c10d.py\" target=\"_blank\"><span style=\"color: #7f7f7f; text-decoration-color: #7f7f7f\">distributed_c10d.py</span></a><span style=\"color: #7f7f7f; text-decoration-color: #7f7f7f\">:</span><a href=\"file:///usr/local/lib/python3.7/dist-packages/torch/distributed/distributed_c10d.py#252\" target=\"_blank\"><span style=\"color: #7f7f7f; text-decoration-color: #7f7f7f\">252</span></a>\n",
              "<span style=\"color: #7fbfbf; text-decoration-color: #7fbfbf\">                    </span>         torch.distributed.distributed_c10d -     <span style=\"color: #7f7f7f; text-decoration-color: #7f7f7f\">                       </span>\n",
              "<span style=\"color: #7fbfbf; text-decoration-color: #7fbfbf\">                    </span>         <span style=\"color: #008080; text-decoration-color: #008080; font-weight: bold\">2022</span>-<span style=\"color: #008080; text-decoration-color: #008080; font-weight: bold\">03</span>-<span style=\"color: #008080; text-decoration-color: #008080; font-weight: bold\">31</span> <span style=\"color: #00ff00; text-decoration-color: #00ff00; font-weight: bold\">13:51:32</span>,<span style=\"color: #008080; text-decoration-color: #008080; font-weight: bold\">882</span> INFO: Rank <span style=\"color: #008080; text-decoration-color: #008080; font-weight: bold\">0</span>:    <span style=\"color: #7f7f7f; text-decoration-color: #7f7f7f\">                       </span>\n",
              "<span style=\"color: #7fbfbf; text-decoration-color: #7fbfbf\">                    </span>         Completed store-based barrier for        <span style=\"color: #7f7f7f; text-decoration-color: #7f7f7f\">                       </span>\n",
              "<span style=\"color: #7fbfbf; text-decoration-color: #7fbfbf\">                    </span>         key:store_based_barrier_key:<span style=\"color: #008080; text-decoration-color: #008080; font-weight: bold\">3</span> with <span style=\"color: #008080; text-decoration-color: #008080; font-weight: bold\">1</span>     <span style=\"color: #7f7f7f; text-decoration-color: #7f7f7f\">                       </span>\n",
              "<span style=\"color: #7fbfbf; text-decoration-color: #7fbfbf\">                    </span>         nodes.                                   <span style=\"color: #7f7f7f; text-decoration-color: #7f7f7f\">                       </span>\n",
              "</pre>\n"
            ]
          },
          "metadata": {}
        },
        {
          "output_type": "display_data",
          "data": {
            "text/plain": [
              "\u001b[2;36m                   \u001b[0m\u001b[2;36m \u001b[0m\u001b[34mINFO    \u001b[0m colossalai -                             \u001b]8;id=113467;file:///usr/local/lib/python3.7/dist-packages/torch/distributed/distributed_c10d.py\u001b\\\u001b[2mdistributed_c10d.py\u001b[0m\u001b]8;;\u001b\\\u001b[2m:\u001b[0m\u001b]8;id=153485;file:///usr/local/lib/python3.7/dist-packages/torch/distributed/distributed_c10d.py#217\u001b\\\u001b[2m217\u001b[0m\u001b]8;;\u001b\\\n",
              "\u001b[2;36m                    \u001b[0m         torch.distributed.distributed_c10d -     \u001b[2m                       \u001b[0m\n",
              "\u001b[2;36m                    \u001b[0m         \u001b[1;36m2022\u001b[0m-\u001b[1;36m03\u001b[0m-\u001b[1;36m31\u001b[0m \u001b[1;92m13:51:32\u001b[0m,\u001b[1;36m890\u001b[0m INFO: Added key: \u001b[2m                       \u001b[0m\n",
              "\u001b[2;36m                    \u001b[0m         store_based_barrier_key:\u001b[1;36m4\u001b[0m to store for   \u001b[2m                       \u001b[0m\n",
              "\u001b[2;36m                    \u001b[0m         rank: \u001b[1;36m0\u001b[0m                                  \u001b[2m                       \u001b[0m\n"
            ],
            "text/html": [
              "<pre style=\"white-space:pre;overflow-x:auto;line-height:normal;font-family:Menlo,'DejaVu Sans Mono',consolas,'Courier New',monospace\"><span style=\"color: #7fbfbf; text-decoration-color: #7fbfbf\">                    </span><span style=\"color: #000080; text-decoration-color: #000080\">INFO    </span> colossalai -                             <a href=\"file:///usr/local/lib/python3.7/dist-packages/torch/distributed/distributed_c10d.py\" target=\"_blank\"><span style=\"color: #7f7f7f; text-decoration-color: #7f7f7f\">distributed_c10d.py</span></a><span style=\"color: #7f7f7f; text-decoration-color: #7f7f7f\">:</span><a href=\"file:///usr/local/lib/python3.7/dist-packages/torch/distributed/distributed_c10d.py#217\" target=\"_blank\"><span style=\"color: #7f7f7f; text-decoration-color: #7f7f7f\">217</span></a>\n",
              "<span style=\"color: #7fbfbf; text-decoration-color: #7fbfbf\">                    </span>         torch.distributed.distributed_c10d -     <span style=\"color: #7f7f7f; text-decoration-color: #7f7f7f\">                       </span>\n",
              "<span style=\"color: #7fbfbf; text-decoration-color: #7fbfbf\">                    </span>         <span style=\"color: #008080; text-decoration-color: #008080; font-weight: bold\">2022</span>-<span style=\"color: #008080; text-decoration-color: #008080; font-weight: bold\">03</span>-<span style=\"color: #008080; text-decoration-color: #008080; font-weight: bold\">31</span> <span style=\"color: #00ff00; text-decoration-color: #00ff00; font-weight: bold\">13:51:32</span>,<span style=\"color: #008080; text-decoration-color: #008080; font-weight: bold\">890</span> INFO: Added key: <span style=\"color: #7f7f7f; text-decoration-color: #7f7f7f\">                       </span>\n",
              "<span style=\"color: #7fbfbf; text-decoration-color: #7fbfbf\">                    </span>         store_based_barrier_key:<span style=\"color: #008080; text-decoration-color: #008080; font-weight: bold\">4</span> to store for   <span style=\"color: #7f7f7f; text-decoration-color: #7f7f7f\">                       </span>\n",
              "<span style=\"color: #7fbfbf; text-decoration-color: #7fbfbf\">                    </span>         rank: <span style=\"color: #008080; text-decoration-color: #008080; font-weight: bold\">0</span>                                  <span style=\"color: #7f7f7f; text-decoration-color: #7f7f7f\">                       </span>\n",
              "</pre>\n"
            ]
          },
          "metadata": {}
        },
        {
          "output_type": "display_data",
          "data": {
            "text/plain": [
              "\u001b[2;36m                   \u001b[0m\u001b[2;36m \u001b[0m\u001b[34mINFO    \u001b[0m colossalai -                             \u001b]8;id=987113;file:///usr/local/lib/python3.7/dist-packages/torch/distributed/distributed_c10d.py\u001b\\\u001b[2mdistributed_c10d.py\u001b[0m\u001b]8;;\u001b\\\u001b[2m:\u001b[0m\u001b]8;id=827423;file:///usr/local/lib/python3.7/dist-packages/torch/distributed/distributed_c10d.py#252\u001b\\\u001b[2m252\u001b[0m\u001b]8;;\u001b\\\n",
              "\u001b[2;36m                    \u001b[0m         torch.distributed.distributed_c10d -     \u001b[2m                       \u001b[0m\n",
              "\u001b[2;36m                    \u001b[0m         \u001b[1;36m2022\u001b[0m-\u001b[1;36m03\u001b[0m-\u001b[1;36m31\u001b[0m \u001b[1;92m13:51:32\u001b[0m,\u001b[1;36m897\u001b[0m INFO: Rank \u001b[1;36m0\u001b[0m:    \u001b[2m                       \u001b[0m\n",
              "\u001b[2;36m                    \u001b[0m         Completed store-based barrier for        \u001b[2m                       \u001b[0m\n",
              "\u001b[2;36m                    \u001b[0m         key:store_based_barrier_key:\u001b[1;36m4\u001b[0m with \u001b[1;36m1\u001b[0m     \u001b[2m                       \u001b[0m\n",
              "\u001b[2;36m                    \u001b[0m         nodes.                                   \u001b[2m                       \u001b[0m\n"
            ],
            "text/html": [
              "<pre style=\"white-space:pre;overflow-x:auto;line-height:normal;font-family:Menlo,'DejaVu Sans Mono',consolas,'Courier New',monospace\"><span style=\"color: #7fbfbf; text-decoration-color: #7fbfbf\">                    </span><span style=\"color: #000080; text-decoration-color: #000080\">INFO    </span> colossalai -                             <a href=\"file:///usr/local/lib/python3.7/dist-packages/torch/distributed/distributed_c10d.py\" target=\"_blank\"><span style=\"color: #7f7f7f; text-decoration-color: #7f7f7f\">distributed_c10d.py</span></a><span style=\"color: #7f7f7f; text-decoration-color: #7f7f7f\">:</span><a href=\"file:///usr/local/lib/python3.7/dist-packages/torch/distributed/distributed_c10d.py#252\" target=\"_blank\"><span style=\"color: #7f7f7f; text-decoration-color: #7f7f7f\">252</span></a>\n",
              "<span style=\"color: #7fbfbf; text-decoration-color: #7fbfbf\">                    </span>         torch.distributed.distributed_c10d -     <span style=\"color: #7f7f7f; text-decoration-color: #7f7f7f\">                       </span>\n",
              "<span style=\"color: #7fbfbf; text-decoration-color: #7fbfbf\">                    </span>         <span style=\"color: #008080; text-decoration-color: #008080; font-weight: bold\">2022</span>-<span style=\"color: #008080; text-decoration-color: #008080; font-weight: bold\">03</span>-<span style=\"color: #008080; text-decoration-color: #008080; font-weight: bold\">31</span> <span style=\"color: #00ff00; text-decoration-color: #00ff00; font-weight: bold\">13:51:32</span>,<span style=\"color: #008080; text-decoration-color: #008080; font-weight: bold\">897</span> INFO: Rank <span style=\"color: #008080; text-decoration-color: #008080; font-weight: bold\">0</span>:    <span style=\"color: #7f7f7f; text-decoration-color: #7f7f7f\">                       </span>\n",
              "<span style=\"color: #7fbfbf; text-decoration-color: #7fbfbf\">                    </span>         Completed store-based barrier for        <span style=\"color: #7f7f7f; text-decoration-color: #7f7f7f\">                       </span>\n",
              "<span style=\"color: #7fbfbf; text-decoration-color: #7fbfbf\">                    </span>         key:store_based_barrier_key:<span style=\"color: #008080; text-decoration-color: #008080; font-weight: bold\">4</span> with <span style=\"color: #008080; text-decoration-color: #008080; font-weight: bold\">1</span>     <span style=\"color: #7f7f7f; text-decoration-color: #7f7f7f\">                       </span>\n",
              "<span style=\"color: #7fbfbf; text-decoration-color: #7fbfbf\">                    </span>         nodes.                                   <span style=\"color: #7f7f7f; text-decoration-color: #7f7f7f\">                       </span>\n",
              "</pre>\n"
            ]
          },
          "metadata": {}
        },
        {
          "output_type": "display_data",
          "data": {
            "text/plain": [
              "\u001b[2;36m                   \u001b[0m\u001b[2;36m \u001b[0m\u001b[34mINFO    \u001b[0m colossalai - colossalai - \u001b[1;36m2022\u001b[0m-\u001b[1;36m03\u001b[0m-\u001b[1;36m31\u001b[0m \u001b[1;92m13:51:32\u001b[0m,\u001b[1;36m906\u001b[0m  \u001b]8;id=337621;file:///usr/local/lib/python3.7/dist-packages/colossalai/logging/logger.py\u001b\\\u001b[2mlogger.py\u001b[0m\u001b]8;;\u001b\\\u001b[2m:\u001b[0m\u001b]8;id=418028;file:///usr/local/lib/python3.7/dist-packages/colossalai/logging/logger.py#109\u001b\\\u001b[2m109\u001b[0m\u001b]8;;\u001b\\\n",
              "\u001b[2;36m                    \u001b[0m         INFO: process rank \u001b[1;36m0\u001b[0m is bound to device \u001b[1;36m0\u001b[0m          \u001b[2m             \u001b[0m\n"
            ],
            "text/html": [
              "<pre style=\"white-space:pre;overflow-x:auto;line-height:normal;font-family:Menlo,'DejaVu Sans Mono',consolas,'Courier New',monospace\"><span style=\"color: #7fbfbf; text-decoration-color: #7fbfbf\">                    </span><span style=\"color: #000080; text-decoration-color: #000080\">INFO    </span> colossalai - colossalai - <span style=\"color: #008080; text-decoration-color: #008080; font-weight: bold\">2022</span>-<span style=\"color: #008080; text-decoration-color: #008080; font-weight: bold\">03</span>-<span style=\"color: #008080; text-decoration-color: #008080; font-weight: bold\">31</span> <span style=\"color: #00ff00; text-decoration-color: #00ff00; font-weight: bold\">13:51:32</span>,<span style=\"color: #008080; text-decoration-color: #008080; font-weight: bold\">906</span>  <a href=\"file:///usr/local/lib/python3.7/dist-packages/colossalai/logging/logger.py\" target=\"_blank\"><span style=\"color: #7f7f7f; text-decoration-color: #7f7f7f\">logger.py</span></a><span style=\"color: #7f7f7f; text-decoration-color: #7f7f7f\">:</span><a href=\"file:///usr/local/lib/python3.7/dist-packages/colossalai/logging/logger.py#109\" target=\"_blank\"><span style=\"color: #7f7f7f; text-decoration-color: #7f7f7f\">109</span></a>\n",
              "<span style=\"color: #7fbfbf; text-decoration-color: #7fbfbf\">                    </span>         INFO: process rank <span style=\"color: #008080; text-decoration-color: #008080; font-weight: bold\">0</span> is bound to device <span style=\"color: #008080; text-decoration-color: #008080; font-weight: bold\">0</span>          <span style=\"color: #7f7f7f; text-decoration-color: #7f7f7f\">             </span>\n",
              "</pre>\n"
            ]
          },
          "metadata": {}
        },
        {
          "output_type": "display_data",
          "data": {
            "text/plain": [
              "\u001b[2;36m                   \u001b[0m\u001b[2;36m \u001b[0m\u001b[34mINFO    \u001b[0m colossalai - colossalai - \u001b[1;36m2022\u001b[0m-\u001b[1;36m03\u001b[0m-\u001b[1;36m31\u001b[0m \u001b[1;92m13:51:32\u001b[0m,\u001b[1;36m917\u001b[0m  \u001b]8;id=835769;file:///usr/local/lib/python3.7/dist-packages/colossalai/logging/logger.py\u001b\\\u001b[2mlogger.py\u001b[0m\u001b]8;;\u001b\\\u001b[2m:\u001b[0m\u001b]8;id=20063;file:///usr/local/lib/python3.7/dist-packages/colossalai/logging/logger.py#109\u001b\\\u001b[2m109\u001b[0m\u001b]8;;\u001b\\\n",
              "\u001b[2;36m                    \u001b[0m         INFO: initialized seed on rank \u001b[1;36m0\u001b[0m, numpy: \u001b[1;36m1024\u001b[0m,     \u001b[2m             \u001b[0m\n",
              "\u001b[2;36m                    \u001b[0m         python random: \u001b[1;36m1024\u001b[0m, ParallelMode.DATA: \u001b[1;36m1024\u001b[0m,      \u001b[2m             \u001b[0m\n",
              "\u001b[2;36m                    \u001b[0m         ParallelMode.TENSOR: \u001b[1;36m1024\u001b[0m,the default parallel     \u001b[2m             \u001b[0m\n",
              "\u001b[2;36m                    \u001b[0m         seed is ParallelMode.DATA.                         \u001b[2m             \u001b[0m\n"
            ],
            "text/html": [
              "<pre style=\"white-space:pre;overflow-x:auto;line-height:normal;font-family:Menlo,'DejaVu Sans Mono',consolas,'Courier New',monospace\"><span style=\"color: #7fbfbf; text-decoration-color: #7fbfbf\">                    </span><span style=\"color: #000080; text-decoration-color: #000080\">INFO    </span> colossalai - colossalai - <span style=\"color: #008080; text-decoration-color: #008080; font-weight: bold\">2022</span>-<span style=\"color: #008080; text-decoration-color: #008080; font-weight: bold\">03</span>-<span style=\"color: #008080; text-decoration-color: #008080; font-weight: bold\">31</span> <span style=\"color: #00ff00; text-decoration-color: #00ff00; font-weight: bold\">13:51:32</span>,<span style=\"color: #008080; text-decoration-color: #008080; font-weight: bold\">917</span>  <a href=\"file:///usr/local/lib/python3.7/dist-packages/colossalai/logging/logger.py\" target=\"_blank\"><span style=\"color: #7f7f7f; text-decoration-color: #7f7f7f\">logger.py</span></a><span style=\"color: #7f7f7f; text-decoration-color: #7f7f7f\">:</span><a href=\"file:///usr/local/lib/python3.7/dist-packages/colossalai/logging/logger.py#109\" target=\"_blank\"><span style=\"color: #7f7f7f; text-decoration-color: #7f7f7f\">109</span></a>\n",
              "<span style=\"color: #7fbfbf; text-decoration-color: #7fbfbf\">                    </span>         INFO: initialized seed on rank <span style=\"color: #008080; text-decoration-color: #008080; font-weight: bold\">0</span>, numpy: <span style=\"color: #008080; text-decoration-color: #008080; font-weight: bold\">1024</span>,     <span style=\"color: #7f7f7f; text-decoration-color: #7f7f7f\">             </span>\n",
              "<span style=\"color: #7fbfbf; text-decoration-color: #7fbfbf\">                    </span>         python random: <span style=\"color: #008080; text-decoration-color: #008080; font-weight: bold\">1024</span>, ParallelMode.DATA: <span style=\"color: #008080; text-decoration-color: #008080; font-weight: bold\">1024</span>,      <span style=\"color: #7f7f7f; text-decoration-color: #7f7f7f\">             </span>\n",
              "<span style=\"color: #7fbfbf; text-decoration-color: #7fbfbf\">                    </span>         ParallelMode.TENSOR: <span style=\"color: #008080; text-decoration-color: #008080; font-weight: bold\">1024</span>,the default parallel     <span style=\"color: #7f7f7f; text-decoration-color: #7f7f7f\">             </span>\n",
              "<span style=\"color: #7fbfbf; text-decoration-color: #7fbfbf\">                    </span>         seed is ParallelMode.DATA.                         <span style=\"color: #7f7f7f; text-decoration-color: #7f7f7f\">             </span>\n",
              "</pre>\n"
            ]
          },
          "metadata": {}
        },
        {
          "output_type": "display_data",
          "data": {
            "text/plain": [
              "\u001b[2;36m                   \u001b[0m\u001b[2;36m \u001b[0m\u001b[34mINFO    \u001b[0m colossalai - colossalai - \u001b[1;36m2022\u001b[0m-\u001b[1;36m03\u001b[0m-\u001b[1;36m31\u001b[0m \u001b[1;92m13:51:32\u001b[0m,\u001b[1;36m928\u001b[0m  \u001b]8;id=506985;file:///usr/local/lib/python3.7/dist-packages/colossalai/logging/logger.py\u001b\\\u001b[2mlogger.py\u001b[0m\u001b]8;;\u001b\\\u001b[2m:\u001b[0m\u001b]8;id=408344;file:///usr/local/lib/python3.7/dist-packages/colossalai/logging/logger.py#113\u001b\\\u001b[2m113\u001b[0m\u001b]8;;\u001b\\\n",
              "\u001b[2;36m                    \u001b[0m         INFO: Distributed environment is initialized, data \u001b[2m             \u001b[0m\n",
              "\u001b[2;36m                    \u001b[0m         parallel size: \u001b[1;36m1\u001b[0m, pipeline parallel size: \u001b[1;36m1\u001b[0m,       \u001b[2m             \u001b[0m\n",
              "\u001b[2;36m                    \u001b[0m         tensor parallel size: \u001b[1;36m1\u001b[0m                            \u001b[2m             \u001b[0m\n"
            ],
            "text/html": [
              "<pre style=\"white-space:pre;overflow-x:auto;line-height:normal;font-family:Menlo,'DejaVu Sans Mono',consolas,'Courier New',monospace\"><span style=\"color: #7fbfbf; text-decoration-color: #7fbfbf\">                    </span><span style=\"color: #000080; text-decoration-color: #000080\">INFO    </span> colossalai - colossalai - <span style=\"color: #008080; text-decoration-color: #008080; font-weight: bold\">2022</span>-<span style=\"color: #008080; text-decoration-color: #008080; font-weight: bold\">03</span>-<span style=\"color: #008080; text-decoration-color: #008080; font-weight: bold\">31</span> <span style=\"color: #00ff00; text-decoration-color: #00ff00; font-weight: bold\">13:51:32</span>,<span style=\"color: #008080; text-decoration-color: #008080; font-weight: bold\">928</span>  <a href=\"file:///usr/local/lib/python3.7/dist-packages/colossalai/logging/logger.py\" target=\"_blank\"><span style=\"color: #7f7f7f; text-decoration-color: #7f7f7f\">logger.py</span></a><span style=\"color: #7f7f7f; text-decoration-color: #7f7f7f\">:</span><a href=\"file:///usr/local/lib/python3.7/dist-packages/colossalai/logging/logger.py#113\" target=\"_blank\"><span style=\"color: #7f7f7f; text-decoration-color: #7f7f7f\">113</span></a>\n",
              "<span style=\"color: #7fbfbf; text-decoration-color: #7fbfbf\">                    </span>         INFO: Distributed environment is initialized, data <span style=\"color: #7f7f7f; text-decoration-color: #7f7f7f\">             </span>\n",
              "<span style=\"color: #7fbfbf; text-decoration-color: #7fbfbf\">                    </span>         parallel size: <span style=\"color: #008080; text-decoration-color: #008080; font-weight: bold\">1</span>, pipeline parallel size: <span style=\"color: #008080; text-decoration-color: #008080; font-weight: bold\">1</span>,       <span style=\"color: #7f7f7f; text-decoration-color: #7f7f7f\">             </span>\n",
              "<span style=\"color: #7fbfbf; text-decoration-color: #7fbfbf\">                    </span>         tensor parallel size: <span style=\"color: #008080; text-decoration-color: #008080; font-weight: bold\">1</span>                            <span style=\"color: #7f7f7f; text-decoration-color: #7f7f7f\">             </span>\n",
              "</pre>\n"
            ]
          },
          "metadata": {}
        },
        {
          "output_type": "display_data",
          "data": {
            "text/plain": [
              "\u001b[2;36m[03/31/22 13:51:33]\u001b[0m\u001b[2;36m \u001b[0m\u001b[34mINFO    \u001b[0m colossalai - colossalai - \u001b[1;36m2022\u001b[0m-\u001b[1;36m03\u001b[0m-\u001b[1;36m31\u001b[0m \u001b[1;92m13:51:33\u001b[0m,\u001b[1;36m018\u001b[0m  \u001b]8;id=338916;file:///usr/local/lib/python3.7/dist-packages/colossalai/logging/logger.py\u001b\\\u001b[2mlogger.py\u001b[0m\u001b]8;;\u001b\\\u001b[2m:\u001b[0m\u001b]8;id=869699;file:///usr/local/lib/python3.7/dist-packages/colossalai/logging/logger.py#113\u001b\\\u001b[2m113\u001b[0m\u001b]8;;\u001b\\\n",
              "\u001b[2;36m                    \u001b[0m         INFO:                                              \u001b[2m             \u001b[0m\n",
              "\u001b[2;36m                    \u001b[0m         ========== Your Config ========                    \u001b[2m             \u001b[0m\n",
              "\u001b[2;36m                    \u001b[0m         \u001b[1m{\u001b[0m\u001b[32m'BATCH_SIZE'\u001b[0m: \u001b[1;36m128\u001b[0m, \u001b[32m'NUM_EPOCHS'\u001b[0m: \u001b[1;36m30\u001b[0m\u001b[1m}\u001b[0m              \u001b[2m             \u001b[0m\n",
              "\u001b[2;36m                    \u001b[0m         ================================                   \u001b[2m             \u001b[0m\n",
              "\u001b[2;36m                    \u001b[0m                                                            \u001b[2m             \u001b[0m\n"
            ],
            "text/html": [
              "<pre style=\"white-space:pre;overflow-x:auto;line-height:normal;font-family:Menlo,'DejaVu Sans Mono',consolas,'Courier New',monospace\"><span style=\"color: #7fbfbf; text-decoration-color: #7fbfbf\">[03/31/22 13:51:33] </span><span style=\"color: #000080; text-decoration-color: #000080\">INFO    </span> colossalai - colossalai - <span style=\"color: #008080; text-decoration-color: #008080; font-weight: bold\">2022</span>-<span style=\"color: #008080; text-decoration-color: #008080; font-weight: bold\">03</span>-<span style=\"color: #008080; text-decoration-color: #008080; font-weight: bold\">31</span> <span style=\"color: #00ff00; text-decoration-color: #00ff00; font-weight: bold\">13:51:33</span>,<span style=\"color: #008080; text-decoration-color: #008080; font-weight: bold\">018</span>  <a href=\"file:///usr/local/lib/python3.7/dist-packages/colossalai/logging/logger.py\" target=\"_blank\"><span style=\"color: #7f7f7f; text-decoration-color: #7f7f7f\">logger.py</span></a><span style=\"color: #7f7f7f; text-decoration-color: #7f7f7f\">:</span><a href=\"file:///usr/local/lib/python3.7/dist-packages/colossalai/logging/logger.py#113\" target=\"_blank\"><span style=\"color: #7f7f7f; text-decoration-color: #7f7f7f\">113</span></a>\n",
              "<span style=\"color: #7fbfbf; text-decoration-color: #7fbfbf\">                    </span>         INFO:                                              <span style=\"color: #7f7f7f; text-decoration-color: #7f7f7f\">             </span>\n",
              "<span style=\"color: #7fbfbf; text-decoration-color: #7fbfbf\">                    </span>         ========== Your Config ========                    <span style=\"color: #7f7f7f; text-decoration-color: #7f7f7f\">             </span>\n",
              "<span style=\"color: #7fbfbf; text-decoration-color: #7fbfbf\">                    </span>         <span style=\"font-weight: bold\">{</span><span style=\"color: #008000; text-decoration-color: #008000\">'BATCH_SIZE'</span>: <span style=\"color: #008080; text-decoration-color: #008080; font-weight: bold\">128</span>, <span style=\"color: #008000; text-decoration-color: #008000\">'NUM_EPOCHS'</span>: <span style=\"color: #008080; text-decoration-color: #008080; font-weight: bold\">30</span><span style=\"font-weight: bold\">}</span>              <span style=\"color: #7f7f7f; text-decoration-color: #7f7f7f\">             </span>\n",
              "<span style=\"color: #7fbfbf; text-decoration-color: #7fbfbf\">                    </span>         ================================                   <span style=\"color: #7f7f7f; text-decoration-color: #7f7f7f\">             </span>\n",
              "<span style=\"color: #7fbfbf; text-decoration-color: #7fbfbf\">                    </span>                                                            <span style=\"color: #7f7f7f; text-decoration-color: #7f7f7f\">             </span>\n",
              "</pre>\n"
            ]
          },
          "metadata": {}
        },
        {
          "output_type": "display_data",
          "data": {
            "text/plain": [
              "\u001b[2;36m                   \u001b[0m\u001b[2;36m \u001b[0m\u001b[34mINFO    \u001b[0m colossalai - colossalai - \u001b[1;36m2022\u001b[0m-\u001b[1;36m03\u001b[0m-\u001b[1;36m31\u001b[0m \u001b[1;92m13:51:33\u001b[0m,\u001b[1;36m026\u001b[0m  \u001b]8;id=831130;file:///usr/local/lib/python3.7/dist-packages/colossalai/logging/logger.py\u001b\\\u001b[2mlogger.py\u001b[0m\u001b]8;;\u001b\\\u001b[2m:\u001b[0m\u001b]8;id=912715;file:///usr/local/lib/python3.7/dist-packages/colossalai/logging/logger.py#113\u001b\\\u001b[2m113\u001b[0m\u001b]8;;\u001b\\\n",
              "\u001b[2;36m                    \u001b[0m         INFO: cuDNN benchmark = \u001b[3;92mTrue\u001b[0m, deterministic =      \u001b[2m             \u001b[0m\n",
              "\u001b[2;36m                    \u001b[0m         \u001b[3;91mFalse\u001b[0m                                              \u001b[2m             \u001b[0m\n"
            ],
            "text/html": [
              "<pre style=\"white-space:pre;overflow-x:auto;line-height:normal;font-family:Menlo,'DejaVu Sans Mono',consolas,'Courier New',monospace\"><span style=\"color: #7fbfbf; text-decoration-color: #7fbfbf\">                    </span><span style=\"color: #000080; text-decoration-color: #000080\">INFO    </span> colossalai - colossalai - <span style=\"color: #008080; text-decoration-color: #008080; font-weight: bold\">2022</span>-<span style=\"color: #008080; text-decoration-color: #008080; font-weight: bold\">03</span>-<span style=\"color: #008080; text-decoration-color: #008080; font-weight: bold\">31</span> <span style=\"color: #00ff00; text-decoration-color: #00ff00; font-weight: bold\">13:51:33</span>,<span style=\"color: #008080; text-decoration-color: #008080; font-weight: bold\">026</span>  <a href=\"file:///usr/local/lib/python3.7/dist-packages/colossalai/logging/logger.py\" target=\"_blank\"><span style=\"color: #7f7f7f; text-decoration-color: #7f7f7f\">logger.py</span></a><span style=\"color: #7f7f7f; text-decoration-color: #7f7f7f\">:</span><a href=\"file:///usr/local/lib/python3.7/dist-packages/colossalai/logging/logger.py#113\" target=\"_blank\"><span style=\"color: #7f7f7f; text-decoration-color: #7f7f7f\">113</span></a>\n",
              "<span style=\"color: #7fbfbf; text-decoration-color: #7fbfbf\">                    </span>         INFO: cuDNN benchmark = <span style=\"color: #00ff00; text-decoration-color: #00ff00; font-style: italic\">True</span>, deterministic =      <span style=\"color: #7f7f7f; text-decoration-color: #7f7f7f\">             </span>\n",
              "<span style=\"color: #7fbfbf; text-decoration-color: #7fbfbf\">                    </span>         <span style=\"color: #ff0000; text-decoration-color: #ff0000; font-style: italic\">False</span>                                              <span style=\"color: #7f7f7f; text-decoration-color: #7f7f7f\">             </span>\n",
              "</pre>\n"
            ]
          },
          "metadata": {}
        }
      ],
      "source": [
        "import os\n",
        "from pathlib import Path\n",
        "import math\n",
        "import colossalai\n",
        "import torch\n",
        "import torch.nn as nn\n",
        "import torch.nn.functional as F\n",
        "from colossalai.core import global_context as gpc\n",
        "from colossalai.logging import get_dist_logger\n",
        "from colossalai.nn import CosineAnnealingLR\n",
        "from colossalai.nn.metric import Accuracy\n",
        "from colossalai.trainer import Trainer, hooks\n",
        "from colossalai.utils import MultiTimer, get_dataloader\n",
        "from torchvision import transforms\n",
        "from torchvision.datasets import MNIST\n",
        "from tqdm import tqdm\n",
        "\n",
        "\n",
        "\n",
        "class LeNet5(nn.Module):\n",
        "\n",
        "    def __init__(self, n_classes):\n",
        "        super(LeNet5, self).__init__()\n",
        "\n",
        "        self.feature_extractor = nn.Sequential(\n",
        "            nn.Conv2d(in_channels=1, out_channels=6, kernel_size=5, stride=1),\n",
        "            nn.Tanh(),\n",
        "            nn.AvgPool2d(kernel_size=2),\n",
        "            nn.Conv2d(in_channels=6, out_channels=16, kernel_size=5, stride=1),\n",
        "            nn.Tanh(),\n",
        "            nn.AvgPool2d(kernel_size=2),\n",
        "            nn.Conv2d(in_channels=16, out_channels=120, kernel_size=5, stride=1),\n",
        "            nn.Tanh()\n",
        "        )\n",
        "\n",
        "        self.classifier = nn.Sequential(\n",
        "            nn.Linear(in_features=120, out_features=84),\n",
        "            nn.Tanh(),\n",
        "            nn.Linear(in_features=84, out_features=n_classes),\n",
        "        )\n",
        "\n",
        "    def forward(self, x):\n",
        "        x = self.feature_extractor(x)\n",
        "        x = torch.flatten(x, 1)\n",
        "        logits = self.classifier(x)\n",
        "        probs = F.softmax(logits, dim=1)\n",
        "        return logits\n",
        "\n",
        "\n",
        "config = {'BATCH_SIZE':128,'NUM_EPOCHS':30}\n",
        "\n",
        "colossalai.launch(config=config,rank=0,world_size=1,host='127.0.0.1',port=1234)\n",
        "\n",
        "logger = get_dist_logger()\n",
        "\n",
        "# build \n",
        "\n",
        "model = LeNet5(n_classes=10)\n",
        "\n",
        "# build dataloaders\n",
        "train_dataset = MNIST(\n",
        "    root=Path('./tmp/'),\n",
        "    download=True,\n",
        "    transform = transforms.Compose([transforms.Resize((32, 32)),\n",
        "                              transforms.ToTensor()])\n",
        ")\n",
        "\n",
        "test_dataset = MNIST(\n",
        "    root=Path('./tmp/'),\n",
        "    train=False,\n",
        "    transform = transforms.Compose([transforms.Resize((32, 32)),\n",
        "                              transforms.ToTensor()])\n",
        ")\n",
        "\n",
        "train_dataloader = get_dataloader(dataset=train_dataset,\n",
        "                                  shuffle=True,\n",
        "                                  batch_size=gpc.config.BATCH_SIZE,\n",
        "                                  num_workers=1,\n",
        "                                  pin_memory=True,\n",
        "                                  )\n",
        "\n",
        "test_dataloader = get_dataloader(dataset=test_dataset,\n",
        "                                  add_sampler=False,\n",
        "                                  batch_size=gpc.config.BATCH_SIZE,\n",
        "                                  num_workers=1,\n",
        "                                  pin_memory=True,\n",
        "                                  )\n",
        "\n",
        "# build criterion\n",
        "criterion = torch.nn.CrossEntropyLoss()\n",
        "\n",
        "# optimizer\n",
        "optimizer = torch.optim.SGD(model.parameters(), lr=1.2e-1, momentum=0.9, weight_decay=5e-4)\n",
        "\n",
        "# lr_scheduler\n",
        "# lr_scheduler = torch.optim.lr_scheduler.MultiStepLR(optimizer, milestones=[35,], gamma=0.1)\n",
        "lr_scheduler = torch.optim.lr_scheduler.MultiStepLR(optimizer, milestones=[20], gamma=0.1)\n",
        "# import pdb;pdb.set_trace()\n",
        "engine, train_dataloader, test_dataloader, _ = colossalai.initialize(model,\n",
        "                                                                      optimizer,\n",
        "                                                                      criterion,\n",
        "                                                                      train_dataloader,\n",
        "                                                                      test_dataloader,\n",
        "                                                                      )\n",
        "# build a timer to measure time\n",
        "timer = MultiTimer()\n",
        "\n",
        "# create a trainer object\n",
        "trainer = Trainer(\n",
        "    engine=engine,\n",
        "    timer=timer,\n",
        "    logger=logger\n",
        ")\n",
        "\n",
        "# define the hooks to attach to the trainer\n",
        "hook_list = [\n",
        "    hooks.LossHook(),\n",
        "    hooks.LRSchedulerHook(lr_scheduler=lr_scheduler, by_epoch=True),\n",
        "    hooks.AccuracyHook(accuracy_func=Accuracy()),\n",
        "    hooks.LogMetricByEpochHook(logger),\n",
        "    hooks.LogMemoryByEpochHook(logger),\n",
        "    hooks.LogTimingByEpochHook(timer, logger),\n",
        "\n",
        "    # you can uncomment these lines if you wish to use them\n",
        "    hooks.TensorboardHook(log_dir='./tb_logs', ranks=[0]),\n",
        "    # hooks.SaveCheckpointHook(checkpoint_dir='./ckpt')\n",
        "]\n",
        "\n",
        "# start training\n",
        "trainer.fit(\n",
        "    train_dataloader=train_dataloader,\n",
        "    epochs=gpc.config.NUM_EPOCHS,\n",
        "    test_dataloader=test_dataloader,\n",
        "    test_interval=1,\n",
        "    hooks=hook_list,\n",
        "    display_progress=True\n",
        ")"
      ]
    },
    {
      "cell_type": "code",
      "source": [
        "%load_ext tensorboard\n",
        "%tensorboard --logdir tb_logs"
      ],
      "metadata": {
        "id": "n32Q0ITyWdBy"
      },
      "execution_count": null,
      "outputs": []
    }
  ]
}